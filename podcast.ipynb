{
 "cells": [
  {
   "cell_type": "code",
   "execution_count": 1,
   "metadata": {},
   "outputs": [],
   "source": [
    "import pandas as pd\n",
    "import re\n",
    "from wordcloud import WordCloud, STOPWORDS, ImageColorGenerator\n",
    "import spacy\n",
    "import os\n",
    "import glob\n",
    "import matplotlib.pyplot as plt"
   ]
  },
  {
   "cell_type": "code",
   "execution_count": 2,
   "metadata": {},
   "outputs": [
    {
     "data": {
      "text/plain": [
       "['.DS_Store',\n",
       " 'Breaking Down Bureaucracy and Building Up Workers.txt',\n",
       " 'To build grit, go back to basics.txt',\n",
       " 'Mastering the Art of Persuasion.txt',\n",
       " 'Creating more resilient Supply Chains.txt',\n",
       " 'Why work friends are worth it.txt']"
      ]
     },
     "execution_count": 2,
     "metadata": {},
     "output_type": "execute_result"
    }
   ],
   "source": [
    "os.listdir('/Users/abhil/project_podcast/Data/')"
   ]
  },
  {
   "cell_type": "code",
   "execution_count": 3,
   "metadata": {},
   "outputs": [],
   "source": [
    "with open('/Users/abhil/project_podcast/Data/To build grit, go back to basics.txt', encoding='utf-8') as f:\n",
    "    text = f.read()\n"
   ]
  },
  {
   "cell_type": "code",
   "execution_count": 6,
   "metadata": {},
   "outputs": [],
   "source": [
    "from unicodedata2 import normalize as nz\n",
    "text = str(nz('NFKD', text).encode('ascii', 'ignore'))"
   ]
  },
  {
   "cell_type": "code",
   "execution_count": 7,
   "metadata": {},
   "outputs": [],
   "source": [
    "text = text.replace('\\xa0', ' ')"
   ]
  },
  {
   "cell_type": "code",
   "execution_count": 8,
   "metadata": {},
   "outputs": [],
   "source": [
    "transcript = '''\n",
    "CURT NICKISCH: Welcome to the HBR IdeaCast from Harvard Business Review. I’m Curt Nickisch.\n",
    "\n",
    "Concepts like resilience and grit have been popular in recent years. But it’s much easier to exalt them when you’re flying high, and times are good. It’s quite another to think about trying to be gritty when the world is adding new stresses left and right, and you experience setbacks. Let’s face it – for many of us, this pandemic has been demanding – and it might not let up anytime soon.\n",
    "\n",
    "Well today’s guest is someone who knows about all the kind of mental and emotional fortitude so many people experts say we need – but maybe fewer people actually *have.\n",
    "\n",
    "She’s the youngest woman ever, at 19, to climb Denali, the highest mountain in North America. She was one of the first women to pilot the Apache attack helicopter the United States Army. And she’s launched a successful corporate and consulting career, too.\n",
    "\n",
    "And luckily – she says we can think about the big idea of grit as a series of smaller pieces. And at a time like this – you can think about rebuilding, refocusing, and deciding what you really want from life. Think of it as a reset on your way to becoming grittier.\n",
    "\n",
    "Our guest is Shannon Huffman Polson. She’s the author of The Grit Factor: Courage, Resilience, and Leadership in the Most Male-Dominated Organization in the World. Shannon, thanks so much for joining us.\n",
    "\n",
    "SHANNON HUFFMAN POLSON:  It’s so good to be with you, Curt.  Thanks for having me.\n",
    "\n",
    "CURT NICKISCH:  So first and foremost, what does grit mean to you?\n",
    "\n",
    "SHANNON HUFFMAN POLSON:  You know, the way that I have defined it over the past years is a dogged determination in the face of difficult circumstances.  Angela Duckworth has defined grit as passion and perseverance towards long term goals, which I also love very much, the passion and the perseverance.  I will say in today’s environment, where the future is very uncertain, where the horizon is especially unclear, and where we’re all working in these environments that are much more ambiguous, I have a slight preference for my own definition.\n",
    "\n",
    "CURT NICKISCH:  Yeah. xSo let’s talk about your personal experience and understanding of it.  Like, where did it come from for you?\n",
    "\n",
    "SHANNON HUFFMAN POLSON:  Well, you know, it’s something that I grew up talking about with my dad, especially.  It’s a concept and actually the term that we would use in pushing through hard things and doing hard things.  And I think that has become very much an important part of who I am and how I’ve approached life and challenges.  It’s something also that I understood as I got older that not everybody had the exposure to, and many, many people were looking for.\n",
    "\n",
    "CURT NICKISCH:  What did your father tell you?  Like, how did he instill this in you?\n",
    "\n",
    "SHANNON HUFFMAN POLSON:  A couple of things.  I think a lot of the ways that, as both parents and as managers, actually, we are able to relay a message or a concept to either our children or the people that we’re working with, is through stories and through questions.\n",
    "\n",
    "There’s a story that I tell, which was being on the soccer field, and my parents, of course, were there cheering.  And this was not the kind of hyper competitive soccer that people play now.  This was Girls’ Club soccer.  I think I was nine years old.  And there was a young woman, we were all about nine or ten playing offense on the other team, and she would tend to just crush the field, and we would always part like the Red Sea as she came charging down the field, and she would score on goal every single time.\n",
    "\n",
    "And I remember after one game, my dad asked me the question, why don’t you just run back at her?  And I thought that was the crazier concept. But the next time that we played against that team, she came charging down my side of the field, and I went charging back at her, and we collided at full speed in the middle of a field in Anchorage, Alaska, and all of the soccer parents were silent, which of course is what happens, and she never charged my side of the field again.\n",
    "\n",
    "And you know, part of that, I think there is a combination of things there, but part of it was the willingness to go into something that was afraid of, that I knew was going to be difficult, that I knew was, in that case, going to hurt.  And being willing to do it anyway.\n",
    "\n",
    "CURT NICKISCH:  You faced this in the military where you were spearheading, right, that’s almost a military term, right, to spearhead an attack.  And of course, the tip of the spear is the hardest part, the part that has to break through first.  Tell me about that experience of facing obstacles as an aspiring pilot in the U.S. Army, how you charged into them, right, and didn’t stand aside.\n",
    "\n",
    "SHANNON HUFFMAN POLSON:  Yeah, and you know, I certainly didn’t go into it understanding the challenges in advance so much.  I went into the military and went into Army attack aviation because I wanted to do something, and I wanted to do something hard, and I wanted to do something exciting.  And I was 21 years old.  You know?  I don’t know what you know when you’re 21, but fortunately not enough to dissuade you from what might lie ahead.\n",
    "\n",
    "And so I think I would say I approached it really more with enthusiasm for the opportunity, and enthusiasm for the job.  Now, of course, once you get into that position, and once you get into the challenges that you face in that kind of a position, especially as one of the first women to come into the role, it was a very different scenario, and a very different sort of a situation than any that I had found myself in prior to that point, and a lot less support, a lot less assurance than I had grown up with, for sure.\n",
    "\n",
    "CURT NICKISCH:  Yeah.  So what did you encounter along the way?\n",
    "\n",
    "SHANNON HUFFMAN POLSON:  Well, I think when I was still an ROTC cadet at Duke University, I was an English major, and was in the Army ROTC, and the assumption was that I would then receive my commission in the National Guard going forward.  The end of my senior year, so I’m not yet graduated, and I’m not yet commissioned into the military, I drove out to Raleigh, North Carolina to meet with the state aviation officer and would receive my assignment for the years ahead.  And I remember reporting to this colonel, who of course is probably in his late 30s, and it seemed like he was behind this immense desk that was as wide as the room, with shiny windows going up the back, and I stood at attention and saluted, and tried not to shake too much.  And he had me take a seat.  And we exchanged a couple of pleasantries back and forth in a very formal sort of a way, before the interchange that I would never forget, when he stopped midsentence, leaned back in his chair, looked down his nose at me and said, you realize, cadet, that you will never fly an attack aircraft.\n",
    "\n",
    "And recognized his comment for what it was meant to be, which was small and mean, because at the time, in 1993, attack aircraft weren’t open to women to fly.  But I also understood by that point in my extremely nascent military career, that there are times when the only thing that you can say is, yes, sir, and so I said, yes, sir.  And I went back to the campus of Duke University and to the ROTC detachment and requested a transfer out of the National Guard and onto active duty.  And then later that spring, Congress changed the game on that colonel and everybody else and lifted the combat exclusion clause for aviation, and suddenly everything in the inventory was open to women and men to fly.  And I reported to Fort Rucker later that year.\n",
    "\n",
    "CURT NICKISCH:  It is a moment where a lot of people would stop.  Right?  Or accept the powers that be?\n",
    "\n",
    "SHANNON HUFFMAN POLSON:  Well, and I do think that’s a big piece of what begins this process and what is part of this ecosystem, as I call it, or the whole person aspect that informs grit, is really deciding that you are going to be the person that is in charge of your own story.  You are going to be the person that decides that your narrative will be.  You can’t choose the raw material, but you can decide how you’re going to use that raw material.  And so many people don’t do that, and that’s, I think, a lost opportunity for a number of people.\n",
    "\n",
    "CURT NICKISCH:  Well, let’s drill down into that idea of committing.  Like, how do you take that first step, and don’t panic, or you don’t think about how many cards are stacked against you?\n",
    "\n",
    "SHANNON HUFFMAN POLSON:  I think it’s really a focus on that end goal, and focus on what it is that your purpose is.  And again, this goes back into the very first part of The Grit Factor, and the very first stages of the training, Going For Grit, is really focused on owning your own story, and then drilling down into core purpose.  And when you’re focused on that core purpose, and I don’t mean just your why, I mean, going much, much deeper than that, when you’re focused on that core purpose, that you are going to succeed, that you are going to contribute in this meaningful way, that allows you to not focus on the obstacles nearly so much.  And I do think it’s a choice on where you put your focus.\n",
    "\n",
    "CURT NICKISCH:  Why is going backwards to mire yourself maybe in your own story, your own biography so important?\n",
    "\n",
    "SHANNON HUFFMAN POLSON:  It’s a good question, and I hope it’s not miring.  I hope it’s actually gaining strength.  You know, there’s a lot of work that has been done around story and the way that we understand information really is in the form of story.  And so going back to make sense of our own stories, to understand the places where we grew, to understand our strengths, to understand where we overcame obstacles, become part of how we can approach future challenges, or even current challenges, to go back and say, hey, look at this time.  I got through this really hard time, and I either developed this strength, or I realized there was a way around this.  Going back and doing that work can help you to understand ways that you can negotiate the challenges that you’re facing today.  And that’s really, really critical work.\n",
    "\n",
    "I think it is, it’s not just making sense of the raw material that you’re given in the moment, but it’s going back over your life and saying, hey, here’s the raw material that I was given.  Now, what do I want that story to be?  Because you get to choose.  You get to either say, hey, I was a victim of this circumstance or this circumstance.  Or hey, I was able to overcome this.  I was able to push through this.\n",
    "\n",
    "And when you do that work, and you decide what that arc of that story of your life is going to be, then you can borrow from the strengths of that, understanding your values, understanding how to go forward in connection with those values in a way that really strengthens you for what it is that you might either be facing today or what you will be facing in the future.\n",
    "\n",
    "CURT NICKISCH:  You know your own story really well, by now especially.  How do you advise other people who also maybe didn’t have the parents you had, or the experience you had growing up, which seemed really formative and influential?  How do you help people figure out what their story is, so that they know what to commit to?\n",
    "\n",
    "SHANNON HUFFMAN POLSON:  Yeah, there’s a number of tactical exercises that I suggest. One of them is to start with what is sometimes called a journey line, or a lifeline, and looking at your own experiences, and really owning, understanding the raw material of it, and just getting that out on paper.  But then starting to understand how that relates and informs your core values and your core purpose.\n",
    "\n",
    "And then there’s a whole other exercise that I really love on drilling down into core purpose.  And I really distinguish that from purpose because I think purpose sometimes becomes like a reason for doing something very specific, which is a bit more superficial than what truly drives you.  And this is pretty deep internal work that takes some time.  It’s not back of the napkin analysis.  It needs time and space to think about and to think about again and again.\n",
    "\n",
    "But I like to borrow the technique that was developed actually by Toyota as a manufacturing deficiency drill down, called the Five Whys, and ask yourself why you’re doing something not one time but five times.  And so really drilling down into that deep, deep why, that’s not specific to the job, that’s not specific to the task, but it is something that is truly connected to who you are as an individual, because I think you’ve got to make that really strong connection that is uniquely your before you can make that apply to whatever the task is, whatever the company is, whatever the company’s missions and values and goals.\n",
    "\n",
    "CURT NICKISCH:  Yeah. What’s the fifth why for you?\n",
    "\n",
    "SHANNON HUFFMAN POLSON:  For me, it’s service.  And when I was frustrated at various points in, while wearing a uniform, if I drilled down all the way down, that fifth why is service.  It’s serving.  And that’s something, again, it’s something that is connected to how I grew up.  We made food for people who didn’t have food through our church, and we visited at retirement homes.  And that concept of contribution and giving back and serving was a very big part of who I am.  And I think that is, that connecting to that allows you to really get through times that are either difficult or frustrating or both.\n",
    "\n",
    "CURT NICKISCH:  Was there a time in your military career where you faced obstacles that you recalled that core idea of service and that helped you get through them?\n",
    "\n",
    "SHANNON HUFFMAN POLSON:  Yeah, I mean, this is, it’s funny, because I feel like the best example I have for this is maybe one of the least exciting, but also perhaps one of the most relatable for a number of people.  But when I first was assigned to Fort Bragg, North Carolina, that was my very first duty assignment, and I reported when I was 23 years old.\n",
    "\n",
    "I was qualified in the Apache helicopter.  I was excited.  I was ready to fly and to lead. But when I arrived at Fort Bragg, there in the regiment in the 229 Attack Aviation Regiment, there were two battalions.  So there’s 120 male pilots, and at age 23 or so, I was the only female pilot. And I was assigned not to a platoon where I would be flying, and really using the craft that I had just learned, but I was assigned as the assistant to the assistant operations officer.\n",
    "\n",
    "CURT NICKISCH:  A desk job.\n",
    "\n",
    "SHANNON HUFFMAN POLSON:  A desk job, exactly.  And not just typing up, for example, operations orders where you’re really getting into the meat of things, but the appendices to the operations orders.  And so I remember, and I was brought up believing, and I actually just thought about this today, that I think my grandpa told my dad who told me that if you get paid 25 cents to scrub a toilet, you’d better earn every single penny of that 25 cents.  You do the best job you can.\n",
    "\n",
    "And so I did the best job I could at what I was doing, and I had great feedback, and I went to the captain I was working for, and I said, listen, sir.  I’m going to keep doing the best job I can at this work, but I wonder when a platoon might open up.  And that captain looked at me and said, Lieutenant, the Army doesn’t owe you anything.\n",
    "\n",
    "So I kept on doing my work, and then at some point we were all brought in on a Saturday to do work together as an operations shop for no apparent reason.  The major that we all worked for looked over at me and joked, and he said, you know, don’t worry, Lieutenant, you’ll be married by the time you’re 25.\n",
    "\n",
    "And I did not say, yes, sir, then, as I had to that colonel in that initial interaction back in Raleigh, North Carolina.  But I went to see the major the next week, and I said, sir, I’m going to keep doing the best job I can at what I’ve been assigned, but I think that I can do more.  And he looked kind of surprised.  And then he assigned me one additional duty after the other.  And finally I took that first flight platoon.\n",
    "\n",
    "But I think back on those times, and I think about the people that I talk to, and I have the chance to talk to companies across the country and around the world, and I talk to people all the time who don’t know how to push back when somebody says, the Army doesn’t owe you anything, or you’ll be married by the time you’re 25.  And they just think that’s where they’re stuck.\n",
    "\n",
    "And I really believe that there’s an opportunity for us to push through those things by owning our story, by drilling down into core purpose, and then by learning really to have the courage to ask for what you want, and to ask again and to ask again, and every single opportunity that I had in the military I had to ask for.  I had to earn it first, of course, and then I had to ask for it.  And that’s an important lesson in that whole process as well.\n",
    "\n",
    "CURT NICKISCH:  How do you start practicing grit?  How do you start becoming better at it?  Knowing your story’s good.\n",
    "\n",
    "SHANNON HUFFMAN POLSON:  Sure.\n",
    "\n",
    "CURT NICKISCH:  Building up confidence to know what you want and what to shoot for.  But then you hit those moments where, you know, you have setbacks, or you feel that there’s something in your way.\n",
    "\n",
    "SHANNON HUFFMAN POLSON:  Right.\n",
    "\n",
    "CURT NICKISCH:  How do you develop that, then, at that point?\n",
    "\n",
    "SHANNON HUFFMAN POLSON:  Yeah, that is an excellent question.  And the way that I have organized The Grit Factor is in three different phases.  And the commit phase is what we’ve already talked about, owning your own story, drilling down to core purpose.\n",
    "\n",
    "The second of those three phases is, learn.  The third is, launch.  And in that second phase of learning, there’s a few things that are really important, and then I think this goes to your question.  And one of them is developing your team.  I call it drawing your circle, because the people that don’t support you should be outside of it.  But you need to have a team.  None of us do this alone.  And I think that is critical when times get tough.\n",
    "\n",
    "CURT NICKISCH:  Is that a misunderstanding of grit, is that it’s an individual quality?\n",
    "\n",
    "SHANNON HUFFMAN POLSON:  I think sometimes.  And I think some of us who are really, have this bias towards action and this inclination to make sure that things get done, a lot of us have had experiences where if you want to get it done well, you do it yourself, sort of thing.  And both the mentality and the reality of that isn’t sustainable.  It might be something in the short term, but it’s not a sustainable solution for the long run.\n",
    "\n",
    "And I think when you talk about grit, you’re talking about, and this goes back to Angela Duckworth’s definition, passion and perseverance towards long term goals, or if it’s dogged determination, either way, there’s a sustainability aspect to that that has to come into play.  And you can’t do it yourself.  So you’ve got to build that team.  But there’s also our very specific, and this is a separate thing, there are very specific ways that you can build grid and resilience, and you know, I borrow a lot from the Army’s master resilience training program, which was developed at the University of Pennsylvania as part of their positive psychology program.  There’s decades and decades of research that go into this.  And there are very specific things that you can do.\n",
    "\n",
    "But to put it, one of them in a nutshell, to get better at doing hard things, you need to do hard things.  And it sounds almost trite to say, but you take one step.  You challenge yourself a little bit more the next time, and a little bit more the next time, and a little bit more the next time.  And that truly is how you build up what is essentially a muscle for grit and resilience.  And it’s absolutely something that is accessible to every single one of us.\n",
    "\n",
    "CURT NICKISCH:  Hearing it described as a muscle that you strengthen makes me wonder what you would say to people who feel like they don’t have it, or haven’t developed that muscle strongly enough.  And then all of a sudden, they face a big setback, or they face a pandemic.  Their business closed.  They work from home.  And they have something that they haven’t built up the muscle for.\n",
    "\n",
    "SHANNON HUFFMAN POLSON:  You know, I’m hearing that a lot. We’re in this for the long haul.  And I think there was initially perhaps a perception that, hey, we’ll sort out a way to go back to normal in a few months, and that’s certainly not going to be the case.  And I think people are starting to recognize that.\n",
    "\n",
    "There’s a couple of things that I think are important.  Number one is to take care of yourself, because I think you cannot sustain this dogged determination every moment of every day, and especially when you’re tired you’ve got to recognize that and be able to, just like a muscle, right, just like working out a muscle, you’ve got to be able to take your rest days as well.\n",
    "\n",
    "The other part is really about mindset.  Understanding that when you’re going through a hard thing, you are building your muscle.  You are getting better.  You are getting stronger.  So this time, which is really difficult for everybody, is building that muscle.  Going through this time is building that muscle.  And know that allows us to negotiate these challenges better.  This is actually very new research that is coming out on the Navy SEALs, is that the mindset that stress enhances performance can actually enhance performance.\n",
    "\n",
    "So I think we’ve got to be able to say, this is not, not to look at this as necessarily a debilitating time, but to take the time that we need to recharge and to give ourselves that recovery, but also understand that this is a time that is making us better, if we use it in that way.\n",
    "\n",
    "The second part that I think is really important on the mindset of this is, and I call this grounded optimism.  I really think of this grit triad as past, present and future, you know, doing this internal work, engaging in the present, and looking towards the future.  And all of that has to do be surrounded by what I call grounded optimism.  And why grounded?\n",
    "\n",
    "Knowing that you can get through things, is critical.  But having a Pollyannaish outlook can be fatal.  And the story that we all know from Jim Collins’ Good To Great, or from other sources, is that of Admiral Stockdale, who was a prisoner of war in Vietnam for 7 ½ years.  And he didn’t know if he would ever be released, when he would be released.  He was the most ranking officer, so he was tortured mercilessly.  His legs were broken.  He was in solitary confinement.  When they finally released him, and he was finally free, and he was asked, what made the difference between those who lived and those who died?  He said, it’s easy.  Those who died were the ones who were optimistic.  And that doesn’t seem like it makes sense, except that, if you’re optimistic in a way that’s not realistic, so you say, oh, we’re going to be released by April, or by Easter, and then you’re not, or we’re going to be released by the end of the summer, and then you’re not, that’s devastating.\n",
    "\n",
    "And I think about that in today’s time. If you think about people that are saying, oh, we’ll have a vaccine by October, and everything will return to normal, well, when that doesn’t happen, and I don’t think very many of us think it will, that will be devastating.  So having a much more realistic outlook on saying, we’re going to get through this.  We’re going to be better for it.  But the horizon is still unclear.  And being realistic about that I think is absolutely critical.  So those two aspects of mindset are very important in the midst of the challenge.\n",
    "\n",
    "CURT NICKISCH:  We’ve talked a lot about developing grit yourself and the importance of team.\n",
    "\n",
    "SHANNON HUFFMAN POLSON:  Yes.\n",
    "\n",
    "CURT NICKISCH:  How do you infuse your own team, or a team that you lead, or those you lead with grit?\n",
    "\n",
    "SHANNON HUFFMAN POLSON:  I think it really comes down to the most important tenet of leadership, which I believe down to my bones is about taking care of your people, and taking care of your people means understanding who they are as individuals.  It means helping them overcome their challenges.\n",
    "\n",
    "I think in a time where the future seems uncertain, where so much seems really amorphous, part of the opportunity for developing grit in a team is to give them agency, and again, in pieces that are realistic, so this might be something, and I recommend this to both individuals and to teams, by the way.  Instead of looking at the long term horizon, when we don’t really know what that horizon will include, look at shorter term goals.  And celebrate those successes.\n",
    "\n",
    "So if you can look at something in the shorter term, even week to week or month to month, I mean, frankly, week to week is probably to be recommended now, because things change so much, even within the course of a month, and celebrate those goals, and give people agency to take action within a given space, that develops the confidence, and also I think helps them to overcome, I don’t want to use the term, devastation too easily, but the fatigue that comes from not knowing where you’re heading, not knowing if you can possibly be successful.  So celebrating smaller successes and giving agency for those successes is a great way to approach the challenges that all of us are facing right now.\n",
    "\n",
    "CURT NICKISCH:  Shannon, thanks so much for coming on the show to talk about your own experiences, and how to develop grit for yourself.\n",
    "\n",
    "SHANNON HUFFMAN POLSON:  Absolutely, Curt.  It’s a real pleasure.  Thank so much for having me.\n",
    "\n",
    "CURT NICKISCH:  That’s Shannon Huffman Paulson.  Her new book is, The Grit Factor, Courage, Resilience and Leadership In the Most Male Dominated Organization In the World.  And to hear more on this topic, try our episode on Abraham Lincoln and the Power of Emotional Discipline.\n",
    "'''"
   ]
  },
  {
   "cell_type": "code",
   "execution_count": 9,
   "metadata": {},
   "outputs": [],
   "source": [
    "def startsWithAuthor(s):\n",
    "    patterns = [\n",
    "        '([\\w]+):',                        # First Name\n",
    "        '([\\w]+[\\s]+[\\w]+):',              # First Name + Last Name\n",
    "        '([\\w]+[\\s]+[\\w]+[\\s]+[\\w]+):',    # First Name + Middle Name + Last Name\n",
    "    ]\n",
    "    pattern = '^' + '|'.join(patterns)\n",
    "    result = re.match(pattern, s)\n",
    "    if result:\n",
    "        return True\n",
    "    return False"
   ]
  },
  {
   "cell_type": "code",
   "execution_count": 11,
   "metadata": {},
   "outputs": [],
   "source": [
    "temp = '''CURT NICKISCH:  Shannon, thanks so much for coming on the show to talk about your own experiences, and how to develop grit for yourself.\n",
    "\n",
    "SHANNON HUFFMAN POLSON:  Absolutely, Curt.  It’s a real pleasure.  Thank so much for having me.\n",
    "\n",
    "'''\n",
    "\n",
    "full_name_pattern = '([A-Z]+[\\s]+[A-Z]+[\\s]+[A-Z]+):(.*)?'"
   ]
  },
  {
   "cell_type": "code",
   "execution_count": 12,
   "metadata": {},
   "outputs": [
    {
     "data": {
      "text/plain": [
       "True"
      ]
     },
     "execution_count": 12,
     "metadata": {},
     "output_type": "execute_result"
    }
   ],
   "source": [
    "startsWithAuthor(temp)"
   ]
  },
  {
   "cell_type": "code",
   "execution_count": 14,
   "metadata": {},
   "outputs": [],
   "source": [
    "temp = re.sub('\\n{1,4}(?![A-Z]+)', ' ', temp)"
   ]
  },
  {
   "cell_type": "code",
   "execution_count": 15,
   "metadata": {},
   "outputs": [
    {
     "data": {
      "text/plain": [
       "'CURT NICKISCH:  Shannon, thanks so much for coming on the show to talk about your own experiences, and how to develop grit for yourself. \\nSHANNON HUFFMAN POLSON:  Absolutely, Curt.  It’s a real pleasure.  Thank so much for having me. '"
      ]
     },
     "execution_count": 15,
     "metadata": {},
     "output_type": "execute_result"
    }
   ],
   "source": [
    "temp"
   ]
  },
  {
   "cell_type": "code",
   "execution_count": 16,
   "metadata": {},
   "outputs": [],
   "source": [
    "transcript_cleaned = re.sub('\\n{2,4}(?![A-Z]{2,})', ' ', text)"
   ]
  },
  {
   "cell_type": "code",
   "execution_count": 17,
   "metadata": {
    "jupyter": {
     "outputs_hidden": true
    }
   },
   "outputs": [
    {
     "data": {
      "text/plain": [
       "\"b'CURT NICKISCH: Welcome to the HBR IdeaCast from Harvard Business Review. Im Curt Nickisch.\\\\n\\\\nConcepts like resilience and grit have been popular in recent years. But its much easier to exalt them when youre flying high, and times are good. Its quite another to think about trying to be gritty when the world is adding new stresses left and right, and you experience setbacks. Lets face it  for many of us, this pandemic has been demanding  and it might not let up anytime soon.\\\\n\\\\nWell todays guest is someone who knows about all the kind of mental and emotional fortitude so many people experts say we need  but maybe fewer people actually *have.\\\\n\\\\nShes the youngest woman ever, at 19, to climb Denali, the highest mountain in North America. She was one of the first women to pilot the Apache attack helicopter the United States Army. And shes launched a successful corporate and consulting career, too.\\\\n\\\\nAnd luckily  she says we can think about the big idea of grit as a series of smaller pieces. And at a time like this  you can think about rebuilding, refocusing, and deciding what you really want from life. Think of it as a reset on your way to becoming grittier.\\\\n\\\\nOur guest is Shannon Huffman Polson. Shes the author of The Grit Factor: Courage, Resilience, and Leadership in the Most Male-Dominated Organization in the World. Shannon, thanks so much for joining us.\\\\n\\\\nSHANNON HUFFMAN POLSON:  Its so good to be with you, Curt.  Thanks for having me.\\\\n\\\\nCURT NICKISCH:  So first and foremost, what does grit mean to you?\\\\n\\\\nSHANNON HUFFMAN POLSON:  You know, the way that I have defined it over the past years is a dogged determination in the face of difficult circumstances.  Angela Duckworth has defined grit as passion and perseverance towards long term goals, which I also love very much, the passion and the perseverance.  I will say in todays environment, where the future is very uncertain, where the horizon is especially unclear, and where were all working in these environments that are much more ambiguous, I have a slight preference for my own definition.\\\\n\\\\nCURT NICKISCH:  Yeah. xSo lets talk about your personal experience and understanding of it.  Like, where did it come from for you?\\\\n\\\\nSHANNON HUFFMAN POLSON:  Well, you know, its something that I grew up talking about with my dad, especially.  Its a concept and actually the term that we would use in pushing through hard things and doing hard things.  And I think that has become very much an important part of who I am and how Ive approached life and challenges.  Its something also that I understood as I got older that not everybody had the exposure to, and many, many people were looking for.\\\\n\\\\nCURT NICKISCH:  What did your father tell you?  Like, how did he instill this in you?\\\\n\\\\nSHANNON HUFFMAN POLSON:  A couple of things.  I think a lot of the ways that, as both parents and as managers, actually, we are able to relay a message or a concept to either our children or the people that were working with, is through stories and through questions.\\\\n\\\\nTheres a story that I tell, which was being on the soccer field, and my parents, of course, were there cheering.  And this was not the kind of hyper competitive soccer that people play now.  This was Girls Club soccer.  I think I was nine years old.  And there was a young woman, we were all about nine or ten playing offense on the other team, and she would tend to just crush the field, and we would always part like the Red Sea as she came charging down the field, and she would score on goal every single time.\\\\n\\\\nAnd I remember after one game, my dad asked me the question, why dont you just run back at her?  And I thought that was the crazier concept. But the next time that we played against that team, she came charging down my side of the field, and I went charging back at her, and we collided at full speed in the middle of a field in Anchorage, Alaska, and all of the soccer parents were silent, which of course is what happens, and she never charged my side of the field again.\\\\n\\\\nAnd you know, part of that, I think there is a combination of things there, but part of it was the willingness to go into something that was afraid of, that I knew was going to be difficult, that I knew was, in that case, going to hurt.  And being willing to do it anyway.\\\\n\\\\nCURT NICKISCH:  You faced this in the military where you were spearheading, right, thats almost a military term, right, to spearhead an attack.  And of course, the tip of the spear is the hardest part, the part that has to break through first.  Tell me about that experience of facing obstacles as an aspiring pilot in the U.S. Army, how you charged into them, right, and didnt stand aside.\\\\n\\\\nSHANNON HUFFMAN POLSON:  Yeah, and you know, I certainly didnt go into it understanding the challenges in advance so much.  I went into the military and went into Army attack aviation because I wanted to do something, and I wanted to do something hard, and I wanted to do something exciting.  And I was 21 years old.  You know?  I dont know what you know when youre 21, but fortunately not enough to dissuade you from what might lie ahead.\\\\n\\\\nAnd so I think I would say I approached it really more with enthusiasm for the opportunity, and enthusiasm for the job.  Now, of course, once you get into that position, and once you get into the challenges that you face in that kind of a position, especially as one of the first women to come into the role, it was a very different scenario, and a very different sort of a situation than any that I had found myself in prior to that point, and a lot less support, a lot less assurance than I had grown up with, for sure.\\\\n\\\\nCURT NICKISCH:  Yeah.  So what did you encounter along the way?\\\\n\\\\nSHANNON HUFFMAN POLSON:  Well, I think when I was still an ROTC cadet at Duke University, I was an English major, and was in the Army ROTC, and the assumption was that I would then receive my commission in the National Guard going forward.  The end of my senior year, so Im not yet graduated, and Im not yet commissioned into the military, I drove out to Raleigh, North Carolina to meet with the state aviation officer and would receive my assignment for the years ahead.  And I remember reporting to this colonel, who of course is probably in his late 30s, and it seemed like he was behind this immense desk that was as wide as the room, with shiny windows going up the back, and I stood at attention and saluted, and tried not to shake too much.  And he had me take a seat.  And we exchanged a couple of pleasantries back and forth in a very formal sort of a way, before the interchange that I would never forget, when he stopped midsentence, leaned back in his chair, looked down his nose at me and said, you realize, cadet, that you will never fly an attack aircraft.\\\\n\\\\nAnd recognized his comment for what it was meant to be, which was small and mean, because at the time, in 1993, attack aircraft werent open to women to fly.  But I also understood by that point in my extremely nascent military career, that there are times when the only thing that you can say is, yes, sir, and so I said, yes, sir.  And I went back to the campus of Duke University and to the ROTC detachment and requested a transfer out of the National Guard and onto active duty.  And then later that spring, Congress changed the game on that colonel and everybody else and lifted the combat exclusion clause for aviation, and suddenly everything in the inventory was open to women and men to fly.  And I reported to Fort Rucker later that year.\\\\n\\\\nCURT NICKISCH:  It is a moment where a lot of people would stop.  Right?  Or accept the powers that be?\\\\n\\\\nSHANNON HUFFMAN POLSON:  Well, and I do think thats a big piece of what begins this process and what is part of this ecosystem, as I call it, or the whole person aspect that informs grit, is really deciding that you are going to be the person that is in charge of your own story.  You are going to be the person that decides that your narrative will be.  You cant choose the raw material, but you can decide how youre going to use that raw material.  And so many people dont do that, and thats, I think, a lost opportunity for a number of people.\\\\n\\\\nCURT NICKISCH:  Well, lets drill down into that idea of committing.  Like, how do you take that first step, and dont panic, or you dont think about how many cards are stacked against you?\\\\n\\\\nSHANNON HUFFMAN POLSON:  I think its really a focus on that end goal, and focus on what it is that your purpose is.  And again, this goes back into the very first part of The Grit Factor, and the very first stages of the training, Going For Grit, is really focused on owning your own story, and then drilling down into core purpose.  And when youre focused on that core purpose, and I dont mean just your why, I mean, going much, much deeper than that, when youre focused on that core purpose, that you are going to succeed, that you are going to contribute in this meaningful way, that allows you to not focus on the obstacles nearly so much.  And I do think its a choice on where you put your focus.\\\\n\\\\nCURT NICKISCH:  Why is going backwards to mire yourself maybe in your own story, your own biography so important?\\\\n\\\\nSHANNON HUFFMAN POLSON:  Its a good question, and I hope its not miring.  I hope its actually gaining strength.  You know, theres a lot of work that has been done around story and the way that we understand information really is in the form of story.  And so going back to make sense of our own stories, to understand the places where we grew, to understand our strengths, to understand where we overcame obstacles, become part of how we can approach future challenges, or even current challenges, to go back and say, hey, look at this time.  I got through this really hard time, and I either developed this strength, or I realized there was a way around this.  Going back and doing that work can help you to understand ways that you can negotiate the challenges that youre facing today.  And thats really, really critical work.\\\\n\\\\nI think it is, its not just making sense of the raw material that youre given in the moment, but its going back over your life and saying, hey, heres the raw material that I was given.  Now, what do I want that story to be?  Because you get to choose.  You get to either say, hey, I was a victim of this circumstance or this circumstance.  Or hey, I was able to overcome this.  I was able to push through this.\\\\n\\\\nAnd when you do that work, and you decide what that arc of that story of your life is going to be, then you can borrow from the strengths of that, understanding your values, understanding how to go forward in connection with those values in a way that really strengthens you for what it is that you might either be facing today or what you will be facing in the future.\\\\n\\\\nCURT NICKISCH:  You know your own story really well, by now especially.  How do you advise other people who also maybe didnt have the parents you had, or the experience you had growing up, which seemed really formative and influential?  How do you help people figure out what their story is, so that they know what to commit to?\\\\n\\\\nSHANNON HUFFMAN POLSON:  Yeah, theres a number of tactical exercises that I suggest. One of them is to start with what is sometimes called a journey line, or a lifeline, and looking at your own experiences, and really owning, understanding the raw material of it, and just getting that out on paper.  But then starting to understand how that relates and informs your core values and your core purpose.\\\\n\\\\nAnd then theres a whole other exercise that I really love on drilling down into core purpose.  And I really distinguish that from purpose because I think purpose sometimes becomes like a reason for doing something very specific, which is a bit more superficial than what truly drives you.  And this is pretty deep internal work that takes some time.  Its not back of the napkin analysis.  It needs time and space to think about and to think about again and again.\\\\n\\\\nBut I like to borrow the technique that was developed actually by Toyota as a manufacturing deficiency drill down, called the Five Whys, and ask yourself why youre doing something not one time but five times.  And so really drilling down into that deep, deep why, thats not specific to the job, thats not specific to the task, but it is something that is truly connected to who you are as an individual, because I think youve got to make that really strong connection that is uniquely your before you can make that apply to whatever the task is, whatever the company is, whatever the companys missions and values and goals.\\\\n\\\\nCURT NICKISCH:  Yeah. Whats the fifth why for you?\\\\n\\\\nSHANNON HUFFMAN POLSON:  For me, its service.  And when I was frustrated at various points in, while wearing a uniform, if I drilled down all the way down, that fifth why is service.  Its serving.  And thats something, again, its something that is connected to how I grew up.  We made food for people who didnt have food through our church, and we visited at retirement homes.  And that concept of contribution and giving back and serving was a very big part of who I am.  And I think that is, that connecting to that allows you to really get through times that are either difficult or frustrating or both.\\\\n\\\\nCURT NICKISCH:  Was there a time in your military career where you faced obstacles that you recalled that core idea of service and that helped you get through them?\\\\n\\\\nSHANNON HUFFMAN POLSON:  Yeah, I mean, this is, its funny, because I feel like the best example I have for this is maybe one of the least exciting, but also perhaps one of the most relatable for a number of people.  But when I first was assigned to Fort Bragg, North Carolina, that was my very first duty assignment, and I reported when I was 23 years old.\\\\n\\\\nI was qualified in the Apache helicopter.  I was excited.  I was ready to fly and to lead. But when I arrived at Fort Bragg, there in the regiment in the 229 Attack Aviation Regiment, there were two battalions.  So theres 120 male pilots, and at age 23 or so, I was the only female pilot. And I was assigned not to a platoon where I would be flying, and really using the craft that I had just learned, but I was assigned as the assistant to the assistant operations officer.\\\\n\\\\nCURT NICKISCH:  A desk job.\\\\n\\\\nSHANNON HUFFMAN POLSON:  A desk job, exactly.  And not just typing up, for example, operations orders where youre really getting into the meat of things, but the appendices to the operations orders.  And so I remember, and I was brought up believing, and I actually just thought about this today, that I think my grandpa told my dad who told me that if you get paid 25 cents to scrub a toilet, youd better earn every single penny of that 25 cents.  You do the best job you can.\\\\n\\\\nAnd so I did the best job I could at what I was doing, and I had great feedback, and I went to the captain I was working for, and I said, listen, sir.  Im going to keep doing the best job I can at this work, but I wonder when a platoon might open up.  And that captain looked at me and said, Lieutenant, the Army doesnt owe you anything.\\\\n\\\\nSo I kept on doing my work, and then at some point we were all brought in on a Saturday to do work together as an operations shop for no apparent reason.  The major that we all worked for looked over at me and joked, and he said, you know, dont worry, Lieutenant, youll be married by the time youre 25.\\\\n\\\\nAnd I did not say, yes, sir, then, as I had to that colonel in that initial interaction back in Raleigh, North Carolina.  But I went to see the major the next week, and I said, sir, Im going to keep doing the best job I can at what Ive been assigned, but I think that I can do more.  And he looked kind of surprised.  And then he assigned me one additional duty after the other.  And finally I took that first flight platoon.\\\\n\\\\nBut I think back on those times, and I think about the people that I talk to, and I have the chance to talk to companies across the country and around the world, and I talk to people all the time who dont know how to push back when somebody says, the Army doesnt owe you anything, or youll be married by the time youre 25.  And they just think thats where theyre stuck.\\\\n\\\\nAnd I really believe that theres an opportunity for us to push through those things by owning our story, by drilling down into core purpose, and then by learning really to have the courage to ask for what you want, and to ask again and to ask again, and every single opportunity that I had in the military I had to ask for.  I had to earn it first, of course, and then I had to ask for it.  And thats an important lesson in that whole process as well.\\\\n\\\\nCURT NICKISCH:  How do you start practicing grit?  How do you start becoming better at it?  Knowing your storys good.\\\\n\\\\nSHANNON HUFFMAN POLSON:  Sure.\\\\n\\\\nCURT NICKISCH:  Building up confidence to know what you want and what to shoot for.  But then you hit those moments where, you know, you have setbacks, or you feel that theres something in your way.\\\\n\\\\nSHANNON HUFFMAN POLSON:  Right.\\\\n\\\\nCURT NICKISCH:  How do you develop that, then, at that point?\\\\n\\\\nSHANNON HUFFMAN POLSON:  Yeah, that is an excellent question.  And the way that I have organized The Grit Factor is in three different phases.  And the commit phase is what weve already talked about, owning your own story, drilling down to core purpose.\\\\n\\\\nThe second of those three phases is, learn.  The third is, launch.  And in that second phase of learning, theres a few things that are really important, and then I think this goes to your question.  And one of them is developing your team.  I call it drawing your circle, because the people that dont support you should be outside of it.  But you need to have a team.  None of us do this alone.  And I think that is critical when times get tough.\\\\n\\\\nCURT NICKISCH:  Is that a misunderstanding of grit, is that its an individual quality?\\\\n\\\\nSHANNON HUFFMAN POLSON:  I think sometimes.  And I think some of us who are really, have this bias towards action and this inclination to make sure that things get done, a lot of us have had experiences where if you want to get it done well, you do it yourself, sort of thing.  And both the mentality and the reality of that isnt sustainable.  It might be something in the short term, but its not a sustainable solution for the long run.\\\\n\\\\nAnd I think when you talk about grit, youre talking about, and this goes back to Angela Duckworths definition, passion and perseverance towards long term goals, or if its dogged determination, either way, theres a sustainability aspect to that that has to come into play.  And you cant do it yourself.  So youve got to build that team.  But theres also our very specific, and this is a separate thing, there are very specific ways that you can build grid and resilience, and you know, I borrow a lot from the Armys master resilience training program, which was developed at the University of Pennsylvania as part of their positive psychology program.  Theres decades and decades of research that go into this.  And there are very specific things that you can do.\\\\n\\\\nBut to put it, one of them in a nutshell, to get better at doing hard things, you need to do hard things.  And it sounds almost trite to say, but you take one step.  You challenge yourself a little bit more the next time, and a little bit more the next time, and a little bit more the next time.  And that truly is how you build up what is essentially a muscle for grit and resilience.  And its absolutely something that is accessible to every single one of us.\\\\n\\\\nCURT NICKISCH:  Hearing it described as a muscle that you strengthen makes me wonder what you would say to people who feel like they dont have it, or havent developed that muscle strongly enough.  And then all of a sudden, they face a big setback, or they face a pandemic.  Their business closed.  They work from home.  And they have something that they havent built up the muscle for.\\\\n\\\\nSHANNON HUFFMAN POLSON:  You know, Im hearing that a lot. Were in this for the long haul.  And I think there was initially perhaps a perception that, hey, well sort out a way to go back to normal in a few months, and thats certainly not going to be the case.  And I think people are starting to recognize that.\\\\n\\\\nTheres a couple of things that I think are important.  Number one is to take care of yourself, because I think you cannot sustain this dogged determination every moment of every day, and especially when youre tired youve got to recognize that and be able to, just like a muscle, right, just like working out a muscle, youve got to be able to take your rest days as well.\\\\n\\\\nThe other part is really about mindset.  Understanding that when youre going through a hard thing, you are building your muscle.  You are getting better.  You are getting stronger.  So this time, which is really difficult for everybody, is building that muscle.  Going through this time is building that muscle.  And know that allows us to negotiate these challenges better.  This is actually very new research that is coming out on the Navy SEALs, is that the mindset that stress enhances performance can actually enhance performance.\\\\n\\\\nSo I think weve got to be able to say, this is not, not to look at this as necessarily a debilitating time, but to take the time that we need to recharge and to give ourselves that recovery, but also understand that this is a time that is making us better, if we use it in that way.\\\\n\\\\nThe second part that I think is really important on the mindset of this is, and I call this grounded optimism.  I really think of this grit triad as past, present and future, you know, doing this internal work, engaging in the present, and looking towards the future.  And all of that has to do be surrounded by what I call grounded optimism.  And why grounded?\\\\n\\\\nKnowing that you can get through things, is critical.  But having a Pollyannaish outlook can be fatal.  And the story that we all know from Jim Collins Good To Great, or from other sources, is that of Admiral Stockdale, who was a prisoner of war in Vietnam for 7 12 years.  And he didnt know if he would ever be released, when he would be released.  He was the most ranking officer, so he was tortured mercilessly.  His legs were broken.  He was in solitary confinement.  When they finally released him, and he was finally free, and he was asked, what made the difference between those who lived and those who died?  He said, its easy.  Those who died were the ones who were optimistic.  And that doesnt seem like it makes sense, except that, if youre optimistic in a way thats not realistic, so you say, oh, were going to be released by April, or by Easter, and then youre not, or were going to be released by the end of the summer, and then youre not, thats devastating.\\\\n\\\\nAnd I think about that in todays time. If you think about people that are saying, oh, well have a vaccine by October, and everything will return to normal, well, when that doesnt happen, and I dont think very many of us think it will, that will be devastating.  So having a much more realistic outlook on saying, were going to get through this.  Were going to be better for it.  But the horizon is still unclear.  And being realistic about that I think is absolutely critical.  So those two aspects of mindset are very important in the midst of the challenge.\\\\n\\\\nCURT NICKISCH:  Weve talked a lot about developing grit yourself and the importance of team.\\\\n\\\\nSHANNON HUFFMAN POLSON:  Yes.\\\\n\\\\nCURT NICKISCH:  How do you infuse your own team, or a team that you lead, or those you lead with grit?\\\\n\\\\nSHANNON HUFFMAN POLSON:  I think it really comes down to the most important tenet of leadership, which I believe down to my bones is about taking care of your people, and taking care of your people means understanding who they are as individuals.  It means helping them overcome their challenges.\\\\n\\\\nI think in a time where the future seems uncertain, where so much seems really amorphous, part of the opportunity for developing grit in a team is to give them agency, and again, in pieces that are realistic, so this might be something, and I recommend this to both individuals and to teams, by the way.  Instead of looking at the long term horizon, when we dont really know what that horizon will include, look at shorter term goals.  And celebrate those successes.\\\\n\\\\nSo if you can look at something in the shorter term, even week to week or month to month, I mean, frankly, week to week is probably to be recommended now, because things change so much, even within the course of a month, and celebrate those goals, and give people agency to take action within a given space, that develops the confidence, and also I think helps them to overcome, I dont want to use the term, devastation too easily, but the fatigue that comes from not knowing where youre heading, not knowing if you can possibly be successful.  So celebrating smaller successes and giving agency for those successes is a great way to approach the challenges that all of us are facing right now.\\\\n\\\\nCURT NICKISCH:  Shannon, thanks so much for coming on the show to talk about your own experiences, and how to develop grit for yourself.\\\\n\\\\nSHANNON HUFFMAN POLSON:  Absolutely, Curt.  Its a real pleasure.  Thank so much for having me.\\\\n\\\\nCURT NICKISCH:  Thats Shannon Huffman Paulson.  Her new book is, The Grit Factor, Courage, Resilience and Leadership In the Most Male Dominated Organization In the World.  And to hear more on this topic, try our episode on Abraham Lincoln and the Power of Emotional Discipline.\\\\n'\""
      ]
     },
     "execution_count": 17,
     "metadata": {},
     "output_type": "execute_result"
    }
   ],
   "source": [
    "transcript_cleaned"
   ]
  },
  {
   "cell_type": "code",
   "execution_count": 18,
   "metadata": {},
   "outputs": [],
   "source": [
    "text_groups = re.findall('([A-Z]+[\\s]+[A-Z]+[\\sA-Z]*):(.*)?', transcript_cleaned)"
   ]
  },
  {
   "cell_type": "code",
   "execution_count": 19,
   "metadata": {},
   "outputs": [],
   "source": [
    "conv_df = pd.DataFrame(columns = ['Speaker', 'Dialogue'])\n",
    "\n",
    "for group in text_groups:\n",
    "    conv_df = conv_df.append({'Speaker' :group[0], 'Dialogue':group[1]}, ignore_index = True)\n",
    "    "
   ]
  },
  {
   "cell_type": "code",
   "execution_count": 20,
   "metadata": {},
   "outputs": [
    {
     "data": {
      "text/html": [
       "<div>\n",
       "<style scoped>\n",
       "    .dataframe tbody tr th:only-of-type {\n",
       "        vertical-align: middle;\n",
       "    }\n",
       "\n",
       "    .dataframe tbody tr th {\n",
       "        vertical-align: top;\n",
       "    }\n",
       "\n",
       "    .dataframe thead th {\n",
       "        text-align: right;\n",
       "    }\n",
       "</style>\n",
       "<table border=\"1\" class=\"dataframe\">\n",
       "  <thead>\n",
       "    <tr style=\"text-align: right;\">\n",
       "      <th></th>\n",
       "      <th>Speaker</th>\n",
       "      <th>Dialogue</th>\n",
       "    </tr>\n",
       "  </thead>\n",
       "  <tbody>\n",
       "    <tr>\n",
       "      <th>0</th>\n",
       "      <td>CURT NICKISCH</td>\n",
       "      <td>Welcome to the HBR IdeaCast from Harvard Busi...</td>\n",
       "    </tr>\n",
       "  </tbody>\n",
       "</table>\n",
       "</div>"
      ],
      "text/plain": [
       "         Speaker                                           Dialogue\n",
       "0  CURT NICKISCH   Welcome to the HBR IdeaCast from Harvard Busi..."
      ]
     },
     "execution_count": 20,
     "metadata": {},
     "output_type": "execute_result"
    }
   ],
   "source": [
    "conv_df"
   ]
  },
  {
   "cell_type": "code",
   "execution_count": 21,
   "metadata": {},
   "outputs": [
    {
     "data": {
      "text/html": [
       "<div>\n",
       "<style scoped>\n",
       "    .dataframe tbody tr th:only-of-type {\n",
       "        vertical-align: middle;\n",
       "    }\n",
       "\n",
       "    .dataframe tbody tr th {\n",
       "        vertical-align: top;\n",
       "    }\n",
       "\n",
       "    .dataframe thead th {\n",
       "        text-align: right;\n",
       "    }\n",
       "</style>\n",
       "<table border=\"1\" class=\"dataframe\">\n",
       "  <thead>\n",
       "    <tr style=\"text-align: right;\">\n",
       "      <th></th>\n",
       "      <th>Speaker</th>\n",
       "      <th>Dialogue</th>\n",
       "    </tr>\n",
       "  </thead>\n",
       "  <tbody>\n",
       "    <tr>\n",
       "      <th>count</th>\n",
       "      <td>1</td>\n",
       "      <td>1</td>\n",
       "    </tr>\n",
       "    <tr>\n",
       "      <th>unique</th>\n",
       "      <td>1</td>\n",
       "      <td>1</td>\n",
       "    </tr>\n",
       "    <tr>\n",
       "      <th>top</th>\n",
       "      <td>CURT NICKISCH</td>\n",
       "      <td>Welcome to the HBR IdeaCast from Harvard Busi...</td>\n",
       "    </tr>\n",
       "    <tr>\n",
       "      <th>freq</th>\n",
       "      <td>1</td>\n",
       "      <td>1</td>\n",
       "    </tr>\n",
       "  </tbody>\n",
       "</table>\n",
       "</div>"
      ],
      "text/plain": [
       "              Speaker                                           Dialogue\n",
       "count               1                                                  1\n",
       "unique              1                                                  1\n",
       "top     CURT NICKISCH   Welcome to the HBR IdeaCast from Harvard Busi...\n",
       "freq                1                                                  1"
      ]
     },
     "execution_count": 21,
     "metadata": {},
     "output_type": "execute_result"
    }
   ],
   "source": [
    "conv_df.describe()"
   ]
  },
  {
   "cell_type": "code",
   "execution_count": 22,
   "metadata": {},
   "outputs": [
    {
     "data": {
      "text/plain": [
       "['CURT NICKISCH']"
      ]
     },
     "execution_count": 22,
     "metadata": {},
     "output_type": "execute_result"
    }
   ],
   "source": [
    "conv_df.Speaker.value_counts()\n",
    "list(conv_df.Speaker.unique())\n"
   ]
  },
  {
   "cell_type": "code",
   "execution_count": 23,
   "metadata": {},
   "outputs": [],
   "source": [
    "def text_by_author(df):\n",
    "    unique_names = list(df.Speaker.unique())\n",
    "    speaker_text = []\n",
    "    for speaker in unique_names:\n",
    "        \n",
    "        speaker_text.append([speaker, df[df['Speaker'] == speaker]['Dialogue'].str.cat()])\n",
    "        \n",
    "    return speaker_text\n"
   ]
  },
  {
   "cell_type": "code",
   "execution_count": 24,
   "metadata": {},
   "outputs": [],
   "source": [
    "author_text = text_by_author(conv_df)"
   ]
  },
  {
   "cell_type": "code",
   "execution_count": 25,
   "metadata": {},
   "outputs": [],
   "source": [
    "conv_df['Letter_Count'] = conv_df['Dialogue'].apply(lambda x: len(x))\n",
    "conv_df['Word_Count'] = conv_df['Dialogue'].apply(lambda x: len(x.split(' ')))"
   ]
  },
  {
   "cell_type": "code",
   "execution_count": 26,
   "metadata": {},
   "outputs": [
    {
     "data": {
      "text/plain": [
       "Text(0, 0.5, 'Frequency')"
      ]
     },
     "execution_count": 26,
     "metadata": {},
     "output_type": "execute_result"
    },
    {
     "data": {
      "image/png": "[encoded data removed]",
      "text/plain": [
       "<Figure size 1080x144 with 1 Axes>"
      ]
     },
     "metadata": {
      "needs_background": "light"
     },
     "output_type": "display_data"
    }
   ],
   "source": [
    "# Most common number of words in a message\n",
    "plt.figure(figsize=(15, 2)) # To ensure that the bar plot fits in the output cell of a Jupyter notebook\n",
    "word_count_value_counts = conv_df['Word_Count'].value_counts()\n",
    "top_40_word_count_value_counts = word_count_value_counts.head(40)\n",
    "top_40_word_count_value_counts.plot.bar()\n",
    "plt.xlabel('Word Count')\n",
    "plt.ylabel('Frequency')"
   ]
  },
  {
   "cell_type": "code",
   "execution_count": 30,
   "metadata": {},
   "outputs": [],
   "source": [
    "import spacy\n",
    "from spacy.lang.en.stop_words import STOP_WORDS\n",
    "from sklearn.feature_extraction.text import CountVectorizer\n",
    "import en_core_web_sm\n",
    "\n",
    "nlp = en_core_web_sm.load()"
   ]
  },
  {
   "cell_type": "code",
   "execution_count": 31,
   "metadata": {},
   "outputs": [
    {
     "ename": "IndexError",
     "evalue": "list index out of range",
     "output_type": "error",
     "traceback": [
      "\u001b[0;31m---------------------------------------------------------------------------\u001b[0m",
      "\u001b[0;31mIndexError\u001b[0m                                Traceback (most recent call last)",
      "\u001b[0;32m<ipython-input-31-62b7a1fdae13>\u001b[0m in \u001b[0;36m<module>\u001b[0;34m\u001b[0m\n\u001b[0;32m----> 1\u001b[0;31m \u001b[0mguest_text\u001b[0m \u001b[0;34m=\u001b[0m \u001b[0mauthor_text\u001b[0m\u001b[0;34m[\u001b[0m\u001b[0;36m1\u001b[0m\u001b[0;34m]\u001b[0m\u001b[0;34m[\u001b[0m\u001b[0;36m1\u001b[0m\u001b[0;34m]\u001b[0m\u001b[0;34m\u001b[0m\u001b[0;34m\u001b[0m\u001b[0m\n\u001b[0m",
      "\u001b[0;31mIndexError\u001b[0m: list index out of range"
     ]
    }
   ],
   "source": [
    "guest_text = author_text[1][1]"
   ]
  },
  {
   "cell_type": "code",
   "execution_count": 72,
   "metadata": {
    "collapsed": true
   },
   "outputs": [],
   "source": [
    "guest_text = nlp(guest_text)"
   ]
  },
  {
   "cell_type": "code",
   "execution_count": 73,
   "metadata": {},
   "outputs": [
    {
     "name": "stderr",
     "output_type": "stream",
     "text": [
      "/Users/abhil/anaconda3/envs/podcast/lib/python3.8/site-packages/sklearn/feature_extraction/text.py:383: UserWarning: Your stop_words may be inconsistent with your preprocessing. Tokenizing the stop words generated tokens ['ll', 've'] not in stop_words.\n",
      "  warnings.warn('Your stop_words may be inconsistent with '\n"
     ]
    }
   ],
   "source": [
    "corpus = [sent.text.lower() for sent in guest_text.sents ]\n",
    "cv = CountVectorizer(stop_words=list(STOP_WORDS))   \n",
    "cv_fit=cv.fit_transform(corpus)    \n",
    "word_list = cv.get_feature_names();    \n",
    "count_list = cv_fit.toarray().sum(axis=0)\n",
    "word_frequency = dict(zip(word_list,count_list))"
   ]
  },
  {
   "cell_type": "code",
   "execution_count": 74,
   "metadata": {},
   "outputs": [
    {
     "name": "stdout",
     "output_type": "stream",
     "text": [
      "\n",
      "Words with higher frequencies:  ['companies', 'supply', 'think']\n"
     ]
    }
   ],
   "source": [
    "val=sorted(word_frequency.values())\n",
    "higher_word_frequencies = [word for word,freq in word_frequency.items() if freq in val[-3:]]\n",
    "print(\"\\nWords with higher frequencies: \", higher_word_frequencies)\n",
    "# gets relative frequency of words\n",
    "higher_frequency = val[-1]\n",
    "for word in word_frequency.keys():  \n",
    "    word_frequency[word] = (word_frequency[word]/higher_frequency)"
   ]
  },
  {
   "cell_type": "code",
   "execution_count": 75,
   "metadata": {
    "collapsed": true
   },
   "outputs": [],
   "source": [
    "sentence_rank={}\n",
    "for sent in guest_text.sents:\n",
    "    for word in sent :       \n",
    "        if word.text.lower() in word_frequency.keys():            \n",
    "            if sent in sentence_rank.keys():\n",
    "                sentence_rank[sent]+=word_frequency[word.text.lower()]\n",
    "            else:\n",
    "                sentence_rank[sent]=word_frequency[word.text.lower()]\n",
    "top_sentences=(sorted(sentence_rank.values())[::-1])\n",
    "top_sent=top_sentences[:3]"
   ]
  },
  {
   "cell_type": "code",
   "execution_count": 76,
   "metadata": {},
   "outputs": [
    {
     "name": "stdout",
     "output_type": "stream",
     "text": [
      "If you think about why manufacturers outsourced their supply to Asia or East Asia, or South Asia in the first point, place, it was to save costs.   Well, I think one of the things that I’ve observed in this pandemic and the recession that’s going with it, is that companies who use the crisis as a way of unfreezing their ways of working, unfreezing their organizational processes, adopting new ways of doing things.   We’ve seen a lot of pivots where firms have really moved into, moved into new areas, moved into new ways of serving customers as well.   "
     ]
    }
   ],
   "source": [
    "summary=[]\n",
    "for sent,strength in sentence_rank.items():  \n",
    "    if strength in top_sent:\n",
    "        summary.append(sent)\n",
    "    else:\n",
    "        continue\n",
    "for i in summary:\n",
    "    print(i,end=\" \")"
   ]
  },
  {
   "cell_type": "code",
   "execution_count": 77,
   "metadata": {},
   "outputs": [
    {
     "data": {
      "text/plain": [
       "  Thank you for inviting me.  Well, Alison, these days global supply chains as you mentioned, are very complex.  And that’s firms tend to rely on a network of suppliers for components or subassemblies or raw materials.  And because we have experienced an era of rapid globalization, which has really been marked by really low cost and very convenient communications, and shipping, firms have tended to cast a wide net geographically when looking for sources of supply.  Oh certainly.  We’ve seen a number of examples of these which have served as a warning.  So, for example, back in 2011, the East Japan earthquake and tsunami took off a number of suppliers in Japan – around Naka, Japan – offline.  And some of those suppliers were critical for these supply chains.  For example, there was one company there who made the material that made automotive black paint sparkle.  Well, we have a lot of talk about how people need to build more resilient supply chains.  And I think this is a good opportunity for people to go back and examine their supply chains and understand where the vulnerabilities are.  But I think consumers, especially in this post pandemic recession, aren’t going to want to necessarily pay more.  So, I think that causes the dilemma for a lot of companies.  Well, I think the first step obviously is mapping your supply chain.  And while that sounds obvious, it’s actually a much harder task than most people appreciate.  And the reason is because these days with kind of the division of labor and specialization of many firms inside the supply chain, we have many tiers.  Risk assessment is really key.  Because as you look through those tiers then you can say, well, how easy is it for me to substitute somebody else?  Are there alternative sources of supply?  Find those ones where they have a high revenue impact to me, if one or more of those suppliers is unable to deliver for whatever reason.  Process improvement is my favorite one.  Especially for companies like in high cost regions like the U.S. or Europe.  If you think about why manufacturers outsourced their supply to Asia or East Asia, or South Asia in the first point, place, it was to save costs.  Well, I think one of the things that I’ve observed in this pandemic and the recession that’s going with it, is that companies who use the crisis as a way of unfreezing their ways of working, unfreezing their organizational processes, adopting new ways of doing things.  Those are the ones who I think can survive and thrive.   It’s going to take using all these things.  I don’t think there’s any one thing that, there’s any one solution that everybody will be able to apply.  It’s going to depend on your sector and what kind of alternatives you might be able to develop and how long will that take to develop?  There’s a lot of impatience about this supply chain resilience and reshoring.  I like to remind people that it took 20 to 25 years for China to capture the supply chain in many products.  And if you want to move the supply chain, we’re not talking about something that will happen in a year, or a couple of years.  You know, it’s kind of a two-way street.  People are finding they were far too over dependent on a particular sector, or particular manufacturer.  That says diversification is one route you can take in terms of I want to diversify my customers, I want to diversify the sectors that I serve.  We’ve seen a lot of pivots where firms have really moved into, moved into new areas, moved into new ways of serving customers as well.  So, it goes back to, I have to unfreeze my organizational ways of working and think about new things that I can do with those capabilities, new opportunities I can address.  Well, even software and services businesses have adopted global footprints as well.  And we’re not just talking about Asia or South Asia, but we’re seeing software companies having part of their footprint in Eastern Europe for example, or Ireland, or lots of different places.  I think the key steps are really first understand what are your risks?  One of the things that I think has been very gratifying that I have seen in the pandemic is how the crisis has unfrozen how a lot of companies act.  So, a great example has been in medical ventilators.  I’m on a board of a company that manufacturers a lot of medical equipment for other companies and they came to us and many companies came to them saying, how fast can you put ventilators into production for us?  Thank you."
      ]
     },
     "execution_count": 77,
     "metadata": {},
     "output_type": "execute_result"
    }
   ],
   "source": [
    "guest_text"
   ]
  },
  {
   "cell_type": "code",
   "execution_count": 78,
   "metadata": {},
   "outputs": [
    {
     "ename": "ModuleNotFoundError",
     "evalue": "No module named 'tensorflow'",
     "output_type": "error",
     "traceback": [
      "\u001b[0;31m---------------------------------------------------------------------------\u001b[0m",
      "\u001b[0;31mModuleNotFoundError\u001b[0m                       Traceback (most recent call last)",
      "\u001b[0;32m<ipython-input-78-21847fb92901>\u001b[0m in \u001b[0;36m<module>\u001b[0;34m\u001b[0m\n\u001b[0;32m----> 1\u001b[0;31m \u001b[0;32mfrom\u001b[0m \u001b[0mattention\u001b[0m \u001b[0;32mimport\u001b[0m \u001b[0mAttentionLayer\u001b[0m\u001b[0;34m\u001b[0m\u001b[0;34m\u001b[0m\u001b[0m\n\u001b[0m",
      "\u001b[0;32m~/attention.py\u001b[0m in \u001b[0;36m<module>\u001b[0;34m\u001b[0m\n\u001b[0;32m----> 1\u001b[0;31m \u001b[0;32mimport\u001b[0m \u001b[0mtensorflow\u001b[0m \u001b[0;32mas\u001b[0m \u001b[0mtf\u001b[0m\u001b[0;34m\u001b[0m\u001b[0;34m\u001b[0m\u001b[0m\n\u001b[0m\u001b[1;32m      2\u001b[0m \u001b[0;32mimport\u001b[0m \u001b[0mos\u001b[0m\u001b[0;34m\u001b[0m\u001b[0;34m\u001b[0m\u001b[0m\n\u001b[1;32m      3\u001b[0m \u001b[0;32mfrom\u001b[0m \u001b[0mtensorflow\u001b[0m\u001b[0;34m.\u001b[0m\u001b[0mpython\u001b[0m\u001b[0;34m.\u001b[0m\u001b[0mkeras\u001b[0m\u001b[0;34m.\u001b[0m\u001b[0mlayers\u001b[0m \u001b[0;32mimport\u001b[0m \u001b[0mLayer\u001b[0m\u001b[0;34m\u001b[0m\u001b[0;34m\u001b[0m\u001b[0m\n\u001b[1;32m      4\u001b[0m \u001b[0;32mfrom\u001b[0m \u001b[0mtensorflow\u001b[0m\u001b[0;34m.\u001b[0m\u001b[0mpython\u001b[0m\u001b[0;34m.\u001b[0m\u001b[0mkeras\u001b[0m \u001b[0;32mimport\u001b[0m \u001b[0mbackend\u001b[0m \u001b[0;32mas\u001b[0m \u001b[0mK\u001b[0m\u001b[0;34m\u001b[0m\u001b[0;34m\u001b[0m\u001b[0m\n\u001b[1;32m      5\u001b[0m \u001b[0;34m\u001b[0m\u001b[0m\n",
      "\u001b[0;31mModuleNotFoundError\u001b[0m: No module named 'tensorflow'"
     ]
    }
   ],
   "source": [
    "from attention import AttentionLayer"
   ]
  },
  {
   "cell_type": "code",
   "execution_count": 79,
   "metadata": {},
   "outputs": [
    {
     "ename": "ModuleNotFoundError",
     "evalue": "No module named 'tensorflow'",
     "output_type": "error",
     "traceback": [
      "\u001b[0;31m---------------------------------------------------------------------------\u001b[0m",
      "\u001b[0;31mModuleNotFoundError\u001b[0m                       Traceback (most recent call last)",
      "\u001b[0;32m<ipython-input-79-d6579f534729>\u001b[0m in \u001b[0;36m<module>\u001b[0;34m\u001b[0m\n\u001b[0;32m----> 1\u001b[0;31m \u001b[0;32mimport\u001b[0m \u001b[0mtensorflow\u001b[0m\u001b[0;34m\u001b[0m\u001b[0;34m\u001b[0m\u001b[0m\n\u001b[0m",
      "\u001b[0;31mModuleNotFoundError\u001b[0m: No module named 'tensorflow'"
     ]
    }
   ],
   "source": [
    "import tensorflow"
   ]
  },
  {
   "cell_type": "code",
   "execution_count": null,
   "metadata": {
    "collapsed": true
   },
   "outputs": [],
   "source": []
  }
 ],
 "metadata": {
  "kernelspec": {
   "display_name": "podcast",
   "language": "python",
   "name": "podcast"
  },
  "language_info": {
   "codemirror_mode": {
    "name": "ipython",
    "version": 3
   },
   "file_extension": ".py",
   "mimetype": "text/x-python",
   "name": "python",
   "nbconvert_exporter": "python",
   "pygments_lexer": "ipython3",
   "version": "3.6.12"
  }
 },
 "nbformat": 4,
 "nbformat_minor": 4
}
