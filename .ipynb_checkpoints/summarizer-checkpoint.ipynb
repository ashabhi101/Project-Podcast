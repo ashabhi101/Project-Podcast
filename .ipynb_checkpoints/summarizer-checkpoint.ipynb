{
 "cells": [
  {
   "cell_type": "code",
   "execution_count": 3,
   "metadata": {},
   "outputs": [],
   "source": [
    "import transformers\n",
    "import pandas as pd"
   ]
  },
  {
   "cell_type": "code",
   "execution_count": 4,
   "metadata": {},
   "outputs": [],
   "source": [
    "from transformers import pipeline\n",
    "\n",
    "summarizer = pipeline('summarization')"
   ]
  },
  {
   "cell_type": "code",
   "execution_count": 6,
   "metadata": {},
   "outputs": [
    {
     "data": {
      "text/plain": [
       "'/Users/abhil'"
      ]
     },
     "execution_count": 6,
     "metadata": {},
     "output_type": "execute_result"
    }
   ],
   "source": [
    "pwd"
   ]
  },
  {
   "cell_type": "code",
   "execution_count": 7,
   "metadata": {},
   "outputs": [],
   "source": [
    "df = pd.read_pickle('/Users/abhil/project_podcast/conv_df.pkl')"
   ]
  },
  {
   "cell_type": "code",
   "execution_count": 8,
   "metadata": {},
   "outputs": [
    {
     "data": {
      "text/html": [
       "<div>\n",
       "<style scoped>\n",
       "    .dataframe tbody tr th:only-of-type {\n",
       "        vertical-align: middle;\n",
       "    }\n",
       "\n",
       "    .dataframe tbody tr th {\n",
       "        vertical-align: top;\n",
       "    }\n",
       "\n",
       "    .dataframe thead th {\n",
       "        text-align: right;\n",
       "    }\n",
       "</style>\n",
       "<table border=\"1\" class=\"dataframe\">\n",
       "  <thead>\n",
       "    <tr style=\"text-align: right;\">\n",
       "      <th></th>\n",
       "      <th>Speaker</th>\n",
       "      <th>Dialogue</th>\n",
       "      <th>Letter_Count</th>\n",
       "      <th>Word_Count</th>\n",
       "    </tr>\n",
       "  </thead>\n",
       "  <tbody>\n",
       "    <tr>\n",
       "      <th>0</th>\n",
       "      <td>ALISON BEARD</td>\n",
       "      <td>Welcome to the HBR IdeaCast from Harvard Bus...</td>\n",
       "      <td>78</td>\n",
       "      <td>15</td>\n",
       "    </tr>\n",
       "    <tr>\n",
       "      <th>1</th>\n",
       "      <td>WILLY SHIH</td>\n",
       "      <td>Thank you for inviting me.</td>\n",
       "      <td>28</td>\n",
       "      <td>7</td>\n",
       "    </tr>\n",
       "    <tr>\n",
       "      <th>2</th>\n",
       "      <td>ALISON BEARD</td>\n",
       "      <td>So, for those of us who didn’t study operati...</td>\n",
       "      <td>201</td>\n",
       "      <td>37</td>\n",
       "    </tr>\n",
       "    <tr>\n",
       "      <th>3</th>\n",
       "      <td>WILLY SHIH</td>\n",
       "      <td>Well, Alison, these days global supply chain...</td>\n",
       "      <td>440</td>\n",
       "      <td>75</td>\n",
       "    </tr>\n",
       "    <tr>\n",
       "      <th>4</th>\n",
       "      <td>ALISON BEARD</td>\n",
       "      <td>And did we see any hints of this problem bef...</td>\n",
       "      <td>138</td>\n",
       "      <td>27</td>\n",
       "    </tr>\n",
       "  </tbody>\n",
       "</table>\n",
       "</div>"
      ],
      "text/plain": [
       "        Speaker                                           Dialogue  \\\n",
       "0  ALISON BEARD    Welcome to the HBR IdeaCast from Harvard Bus...   \n",
       "1    WILLY SHIH                         Thank you for inviting me.   \n",
       "2  ALISON BEARD    So, for those of us who didn’t study operati...   \n",
       "3    WILLY SHIH    Well, Alison, these days global supply chain...   \n",
       "4  ALISON BEARD    And did we see any hints of this problem bef...   \n",
       "\n",
       "   Letter_Count  Word_Count  \n",
       "0            78          15  \n",
       "1            28           7  \n",
       "2           201          37  \n",
       "3           440          75  \n",
       "4           138          27  "
      ]
     },
     "execution_count": 8,
     "metadata": {},
     "output_type": "execute_result"
    }
   ],
   "source": [
    "df.head()"
   ]
  },
  {
   "cell_type": "code",
   "execution_count": 30,
   "metadata": {},
   "outputs": [],
   "source": [
    "guest_speaker = df['Speaker'].unique()[1]\n",
    "guest_text_series = df.groupby('Speaker')['Dialogue'].get_group(guest_speaker).reset_index(drop = True)"
   ]
  },
  {
   "cell_type": "code",
   "execution_count": 33,
   "metadata": {},
   "outputs": [],
   "source": [
    "guest_text = ''\n",
    "for val in guest_text_series:\n",
    "    guest_text += val"
   ]
  },
  {
   "cell_type": "code",
   "execution_count": 36,
   "metadata": {},
   "outputs": [
    {
     "data": {
      "text/plain": [
       "'  Thank you for inviting me.  Well, Alison, these days global supply chains as you mentioned, are very complex.  And that’s firms tend to rely on a network of suppliers for components or subassemblies or raw materials.  And because we have experienced an era of rapid globalization, which has really been marked by really low cost and very convenient communications, and shipping, firms have tended to cast a wide net geographically when looking for sources of supply.  Oh certainly.  We’ve seen a number of examples of these which have served as a warning.  So, for example, back in 2011, the East Japan earthquake and tsunami took off a number of suppliers in Japan – around Naka, Japan – offline.  And some of those suppliers were critical for these supply chains.  For example, there was one company there who made the material that made automotive black paint sparkle.  Well, we have a lot of talk about how people need to build more resilient supply chains.  And I think this is a good opportunity for people to go back and examine their supply chains and understand where the vulnerabilities are.  But I think consumers, especially in this post pandemic recession, aren’t going to want to necessarily pay more.  So, I think that causes the dilemma for a lot of companies.  Well, I think the first step obviously is mapping your supply chain.  And while that sounds obvious, it’s actually a much harder task than most people appreciate.  And the reason is because these days with kind of the division of labor and specialization of many firms inside the supply chain, we have many tiers.  Risk assessment is really key.  Because as you look through those tiers then you can say, well, how easy is it for me to substitute somebody else?  Are there alternative sources of supply?  Find those ones where they have a high revenue impact to me, if one or more of those suppliers is unable to deliver for whatever reason.  Process improvement is my favorite one.  Especially for companies like in high cost regions like the U.S. or Europe.  If you think about why manufacturers outsourced their supply to Asia or East Asia, or South Asia in the first point, place, it was to save costs.  Well, I think one of the things that I’ve observed in this pandemic and the recession that’s going with it, is that companies who use the crisis as a way of unfreezing their ways of working, unfreezing their organizational processes, adopting new ways of doing things.  Those are the ones who I think can survive and thrive.   It’s going to take using all these things.  I don’t think there’s any one thing that, there’s any one solution that everybody will be able to apply.  It’s going to depend on your sector and what kind of alternatives you might be able to develop and how long will that take to develop?  There’s a lot of impatience about this supply chain resilience and reshoring.  I like to remind people that it took 20 to 25 years for China to capture the supply chain in many products.  And if you want to move the supply chain, we’re not talking about something that will happen in a year, or a couple of years.  You know, it’s kind of a two-way street.  People are finding they were far too over dependent on a particular sector, or particular manufacturer.  That says diversification is one route you can take in terms of I want to diversify my customers, I want to diversify the sectors that I serve.  We’ve seen a lot of pivots where firms have really moved into, moved into new areas, moved into new ways of serving customers as well.  So, it goes back to, I have to unfreeze my organizational ways of working and think about new things that I can do with those capabilities, new opportunities I can address.  Well, even software and services businesses have adopted global footprints as well.  And we’re not just talking about Asia or South Asia, but we’re seeing software companies having part of their footprint in Eastern Europe for example, or Ireland, or lots of different places.  I think the key steps are really first understand what are your risks?  One of the things that I think has been very gratifying that I have seen in the pandemic is how the crisis has unfrozen how a lot of companies act.  So, a great example has been in medical ventilators.  I’m on a board of a company that manufacturers a lot of medical equipment for other companies and they came to us and many companies came to them saying, how fast can you put ventilators into production for us?  Thank you.'"
      ]
     },
     "execution_count": 36,
     "metadata": {},
     "output_type": "execute_result"
    }
   ],
   "source": [
    "guest_text"
   ]
  },
  {
   "cell_type": "code",
   "execution_count": 37,
   "metadata": {},
   "outputs": [
    {
     "data": {
      "text/html": [
       "<div>\n",
       "<style scoped>\n",
       "    .dataframe tbody tr th:only-of-type {\n",
       "        vertical-align: middle;\n",
       "    }\n",
       "\n",
       "    .dataframe tbody tr th {\n",
       "        vertical-align: top;\n",
       "    }\n",
       "\n",
       "    .dataframe thead th {\n",
       "        text-align: right;\n",
       "    }\n",
       "</style>\n",
       "<table border=\"1\" class=\"dataframe\">\n",
       "  <thead>\n",
       "    <tr style=\"text-align: right;\">\n",
       "      <th></th>\n",
       "      <th>Speaker</th>\n",
       "      <th>Dialogue</th>\n",
       "      <th>Letter_Count</th>\n",
       "      <th>Word_Count</th>\n",
       "    </tr>\n",
       "  </thead>\n",
       "  <tbody>\n",
       "    <tr>\n",
       "      <th>0</th>\n",
       "      <td>ALISON BEARD</td>\n",
       "      <td>Welcome to the HBR IdeaCast from Harvard Bus...</td>\n",
       "      <td>78</td>\n",
       "      <td>15</td>\n",
       "    </tr>\n",
       "    <tr>\n",
       "      <th>1</th>\n",
       "      <td>WILLY SHIH</td>\n",
       "      <td>Thank you for inviting me.</td>\n",
       "      <td>28</td>\n",
       "      <td>7</td>\n",
       "    </tr>\n",
       "    <tr>\n",
       "      <th>2</th>\n",
       "      <td>ALISON BEARD</td>\n",
       "      <td>So, for those of us who didn’t study operati...</td>\n",
       "      <td>201</td>\n",
       "      <td>37</td>\n",
       "    </tr>\n",
       "    <tr>\n",
       "      <th>3</th>\n",
       "      <td>WILLY SHIH</td>\n",
       "      <td>Well, Alison, these days global supply chain...</td>\n",
       "      <td>440</td>\n",
       "      <td>75</td>\n",
       "    </tr>\n",
       "    <tr>\n",
       "      <th>4</th>\n",
       "      <td>ALISON BEARD</td>\n",
       "      <td>And did we see any hints of this problem bef...</td>\n",
       "      <td>138</td>\n",
       "      <td>27</td>\n",
       "    </tr>\n",
       "  </tbody>\n",
       "</table>\n",
       "</div>"
      ],
      "text/plain": [
       "        Speaker                                           Dialogue  \\\n",
       "0  ALISON BEARD    Welcome to the HBR IdeaCast from Harvard Bus...   \n",
       "1    WILLY SHIH                         Thank you for inviting me.   \n",
       "2  ALISON BEARD    So, for those of us who didn’t study operati...   \n",
       "3    WILLY SHIH    Well, Alison, these days global supply chain...   \n",
       "4  ALISON BEARD    And did we see any hints of this problem bef...   \n",
       "\n",
       "   Letter_Count  Word_Count  \n",
       "0            78          15  \n",
       "1            28           7  \n",
       "2           201          37  \n",
       "3           440          75  \n",
       "4           138          27  "
      ]
     },
     "execution_count": 37,
     "metadata": {},
     "output_type": "execute_result"
    }
   ],
   "source": [
    "df.head()"
   ]
  },
  {
   "cell_type": "code",
   "execution_count": 38,
   "metadata": {
    "scrolled": true
   },
   "outputs": [
    {
     "name": "stderr",
     "output_type": "stream",
     "text": [
      "Your max_length is set to 78, but you input_length is only 24. You might consider decreasing max_length manually, e.g. summarizer('...', max_length=50)\n",
      "Your max_length is set to 201, but you input_length is only 48. You might consider decreasing max_length manually, e.g. summarizer('...', max_length=50)\n",
      "Your max_length is set to 440, but you input_length is only 91. You might consider decreasing max_length manually, e.g. summarizer('...', max_length=50)\n",
      "Your max_length is set to 138, but you input_length is only 33. You might consider decreasing max_length manually, e.g. summarizer('...', max_length=50)\n",
      "Your max_length is set to 405, but you input_length is only 93. You might consider decreasing max_length manually, e.g. summarizer('...', max_length=50)\n",
      "Your max_length is set to 205, but you input_length is only 52. You might consider decreasing max_length manually, e.g. summarizer('...', max_length=50)\n",
      "Your max_length is set to 405, but you input_length is only 90. You might consider decreasing max_length manually, e.g. summarizer('...', max_length=50)\n",
      "Your max_length is set to 411, but you input_length is only 97. You might consider decreasing max_length manually, e.g. summarizer('...', max_length=50)\n",
      "Your max_length is set to 315, but you input_length is only 69. You might consider decreasing max_length manually, e.g. summarizer('...', max_length=50)\n",
      "Your max_length is set to 160, but you input_length is only 42. You might consider decreasing max_length manually, e.g. summarizer('...', max_length=50)\n",
      "Your max_length is set to 328, but you input_length is only 73. You might consider decreasing max_length manually, e.g. summarizer('...', max_length=50)\n",
      "Your max_length is set to 189, but you input_length is only 47. You might consider decreasing max_length manually, e.g. summarizer('...', max_length=50)\n",
      "Your max_length is set to 265, but you input_length is only 62. You might consider decreasing max_length manually, e.g. summarizer('...', max_length=50)\n",
      "Your max_length is set to 235, but you input_length is only 57. You might consider decreasing max_length manually, e.g. summarizer('...', max_length=50)\n",
      "Your max_length is set to 326, but you input_length is only 79. You might consider decreasing max_length manually, e.g. summarizer('...', max_length=50)\n",
      "Your max_length is set to 191, but you input_length is only 44. You might consider decreasing max_length manually, e.g. summarizer('...', max_length=50)\n",
      "Your max_length is set to 602, but you input_length is only 154. You might consider decreasing max_length manually, e.g. summarizer('...', max_length=50)\n",
      "Your max_length is set to 440, but you input_length is only 101. You might consider decreasing max_length manually, e.g. summarizer('...', max_length=50)\n",
      "Your max_length is set to 602, but you input_length is only 142. You might consider decreasing max_length manually, e.g. summarizer('...', max_length=50)\n",
      "Your max_length is set to 248, but you input_length is only 62. You might consider decreasing max_length manually, e.g. summarizer('...', max_length=50)\n",
      "Your max_length is set to 350, but you input_length is only 76. You might consider decreasing max_length manually, e.g. summarizer('...', max_length=50)\n",
      "Your max_length is set to 312, but you input_length is only 66. You might consider decreasing max_length manually, e.g. summarizer('...', max_length=50)\n",
      "Your max_length is set to 415, but you input_length is only 99. You might consider decreasing max_length manually, e.g. summarizer('...', max_length=50)\n",
      "Your max_length is set to 110, but you input_length is only 26. You might consider decreasing max_length manually, e.g. summarizer('...', max_length=50)\n",
      "Your max_length is set to 231, but you input_length is only 63. You might consider decreasing max_length manually, e.g. summarizer('...', max_length=50)\n"
     ]
    }
   ],
   "source": [
    "for i, dialogue in enumerate(df['Dialogue']):\n",
    "    if len(dialogue) < 50:\n",
    "        df.loc[i, 'summary'] = dialogue\n",
    "    else:\n",
    "        df.loc[i, 'summary'] = summarizer(dialogue, max_length = len(dialogue), min_length = 10, do_sample=False)"
   ]
  },
  {
   "cell_type": "code",
   "execution_count": 40,
   "metadata": {},
   "outputs": [
    {
     "data": {
      "text/plain": [
       "[{'summary_text': ' Global supply chains are very complex and firms rely on a network of suppliers for components or subassemblies or raw materials . The East Japan earthquake and tsunami took off a number of suppliers in Japan – around Naka, Japan – offline . Diversification is one route you can take in terms of diversifying the sectors that you serve .'}]"
      ]
     },
     "execution_count": 40,
     "metadata": {},
     "output_type": "execute_result"
    }
   ],
   "source": [
    "summarizer(guest_text, max_length = 700, min_length = 10, do_sample=False)"
   ]
  },
  {
   "cell_type": "code",
   "execution_count": 42,
   "metadata": {},
   "outputs": [
    {
     "name": "stdout",
     "output_type": "stream",
     "text": [
      "  Welcome to the HBR IdeaCast from Harvard Business Review.  I’m Alison Beard.\n",
      "{'summary_text': \" HBR IdeaCast is from Harvard Business Review . This week's HBR is the weekly weekly feature of the HBR iReporters' weekly webcast .\"}\n",
      "\n",
      "\n",
      "  Thank you for inviting me.\n",
      "  Thank you for inviting me.\n",
      "\n",
      "\n",
      "  So, for those of us who didn’t study operations in business school and don’t think about these issues that often, could you give us just a quick explanation of how global supply chains work nowadays?\n",
      "{'summary_text': \" Global supply chains work nowadays, says business school expert . Business school students often don't think about these issues that often, so give us a quick explanation of how they work .\"}\n",
      "\n",
      "\n",
      "  Well, Alison, these days global supply chains as you mentioned, are very complex.  And that’s firms tend to rely on a network of suppliers for components or subassemblies or raw materials.  And because we have experienced an era of rapid globalization, which has really been marked by really low cost and very convenient communications, and shipping, firms have tended to cast a wide net geographically when looking for sources of supply.\n",
      "{'summary_text': ' Global supply chains are very complex and firms tend to rely on a network of suppliers for components or subassemblies or raw materials . Firms have tended to cast a wide net geographically when looking for sources of supply .'}\n",
      "\n",
      "\n",
      "  And did we see any hints of this problem before the pandemic?  For example, when natural disasters would hit certain parts of the world?\n",
      "{'summary_text': ' Did we see any hints of this problem before the pandemic?  For example, when natural disasters would hit certain parts of the world?'}\n",
      "\n",
      "\n",
      "  Oh certainly.  We’ve seen a number of examples of these which have served as a warning.  So, for example, back in 2011, the East Japan earthquake and tsunami took off a number of suppliers in Japan – around Naka, Japan – offline.  And some of those suppliers were critical for these supply chains.  For example, there was one company there who made the material that made automotive black paint sparkle.\n",
      "{'summary_text': ' Back in 2011, the East Japan earthquake and tsunami took off a number of suppliers in Japan – around Naka, Japan – offline . Some of those suppliers were critical for these supply chains . There was one company there who made the material that made automotive black paint sparkle .'}\n",
      "\n",
      "\n",
      "  Yeah.  But as you mentioned, global corporations, they chose this for a reason, to reduce costs, increase profits, allow for just-in-time manufacturing in some cases.  So, is any of that going to change?\n",
      "{'summary_text': ' Global corporations chose this for a reason, to reduce costs, increase profits, allow for just-in-time manufacturing in some cases . So, is any of that going to change?    Yeah.  But as you mentioned, global corporations, they chose this .'}\n",
      "\n",
      "\n",
      "  Well, we have a lot of talk about how people need to build more resilient supply chains.  And I think this is a good opportunity for people to go back and examine their supply chains and understand where the vulnerabilities are.  But I think consumers, especially in this post pandemic recession, aren’t going to want to necessarily pay more.  So, I think that causes the dilemma for a lot of companies.\n",
      "{'summary_text': ' Consumers, especially in this post pandemic recession, aren’t going to want to necessarily pay more. So, I think that causes the dilemma for a lot of companies.  I think this is a good opportunity for people to go back and examine their supply chains and understand where the vulnerabilities are .'}\n",
      "\n",
      "\n",
      "  OK.  So, let’s look forward to solutions.  All the downsides that you’ve outlined are the reasons that companies probably didn’t act to the other warning signs that we saw even decades ago, but the pandemic does seem to have changed attitudes.  So, what’s the first step that you would recommend for an organization who wants to assess their supply chain, identify their vulnerabilities and begin to fix them?\n",
      "{'summary_text': ' All the downsides that you’ve outlined are the reasons that companies probably didn’t act to the other warning signs that we saw even decades ago, but the pandemic does seem to have changed attitudes . So, what’s the first step that you would recommend for an organization to assess their supply chain, identify their vulnerabilities and begin to fix them?'}\n",
      "\n",
      "\n",
      "  Well, I think the first step obviously is mapping your supply chain.  And while that sounds obvious, it’s actually a much harder task than most people appreciate.  And the reason is because these days with kind of the division of labor and specialization of many firms inside the supply chain, we have many tiers.\n",
      "{'summary_text': \" Mapping your supply chain is a much harder task than most people appreciate, he says . He says it's because of division of labor and specialization of many firms inside the supply chain, we have many tiers .\"}\n",
      "\n",
      "\n",
      "  Right.  And even once you’ve identified all those tiers, which as you said is an arduous process.  How do you then evaluate where your highest risk spots are?\n",
      "{'summary_text': \" Even once you’ve identified all those tiers, which as you said is an arduous process,  How do you then evaluate where your highest risk spots are?   Right.   And even once you've identified all the tiers,    how do you evaluate where you're at risk?\"}\n",
      "\n",
      "\n",
      "  Risk assessment is really key.  Because as you look through those tiers then you can say, well, how easy is it for me to substitute somebody else?  Are there alternative sources of supply?  Find those ones where they have a high revenue impact to me, if one or more of those suppliers is unable to deliver for whatever reason.\n",
      "{'summary_text': ' Risk assessment is really key, says the boss of the company . Find those ones where they have a high revenue impact to me, if one or more of those suppliers is unable to deliver for whatever reason . Risk assesses how easy it would be to substitute somebody else .'}\n",
      "\n",
      "\n",
      "  Yeah.  So, the solutions you’ve mentioned so far, one is stockpiling.  Another is bringing sourcing closer to home. And then process improvement.  That seems to be your favorite solution.\n",
      "{'summary_text': ' One is stockpiling, another is bringing sourcing closer to home . And then process improvement . That seems to be your favorite solution .'}\n",
      "\n",
      "\n",
      "  Process improvement is my favorite one.  Especially for companies like in high cost regions like the U.S. or Europe.  If you think about why manufacturers outsourced their supply to Asia or East Asia, or South Asia in the first point, place, it was to save costs.\n",
      "{'summary_text': ' Process improvement is a favorite one for companies like in high cost regions like the U.S. or Europe . If you think about why manufacturers outsourced their supply to Asia or East Asia, or South Asia, it was to save costs .'}\n",
      "\n",
      "\n",
      "  So, how do we incentivize companies and their leaders to focus on an invest in these things, in a period of recession, reduced consumer demand, hence lower sales?  And then also in an era when there’s pressure to keep people in jobs?\n",
      "{'summary_text': ' How do we incentivize companies and their leaders to focus on an invest in these things?  And then also in an era when there’s pressure to keep people in jobs?'}\n",
      "\n",
      "\n",
      "  Well, I think one of the things that I’ve observed in this pandemic and the recession that’s going with it, is that companies who use the crisis as a way of unfreezing their ways of working, unfreezing their organizational processes, adopting new ways of doing things.  Those are the ones who I think can survive and thrive.\n",
      "{'summary_text': ' Companies who use the crisis as a way of unfreezing their ways of working, unfreeze their organizational processes, adopt new ways of doing things . Those are the ones who I think can survive and thrive .'}\n",
      "\n",
      "\n",
      "  In a way it seems like companies should be trying to employ all the strategies that we’ve talked about.  A little bit of stockpiling, some diversification and then also process improvement.\n",
      "{'summary_text': ' In a way it seems like companies should be trying to employ all the strategies that we’ve talked about. A little bit of stockpiling, some diversification and then also process improvement .'}\n",
      "\n",
      "\n",
      "   It’s going to take using all these things.  I don’t think there’s any one thing that, there’s any one solution that everybody will be able to apply.  It’s going to depend on your sector and what kind of alternatives you might be able to develop and how long will that take to develop?  There’s a lot of impatience about this supply chain resilience and reshoring.  I like to remind people that it took 20 to 25 years for China to capture the supply chain in many products.  And if you want to move the supply chain, we’re not talking about something that will happen in a year, or a couple of years.\n",
      "{'summary_text': \" There’s a lot of impatience about this supply chain resilience and reshoring . I like to remind people that it took 20 to 25 years for China to capture the supply chain in many products . And if you want to move supply chain, we're not talking about something that will happen in a year, or a couple of years .\"}\n",
      "\n",
      "\n",
      "  We also have approached this issue very much from the point of view of the big car manufacturer, the refrigerator manufacturer.  What about if you’re on the flip side of this?  You run the small business that makes the best widget and you’ve been supplying all these large companies and now, you’re facing the prospect that they actually don’t want to only rely on you anymore.  What can those small businesses and the suppliers be doing?\n",
      "{'summary_text': ' Small businesses facing prospect that they may not be able to rely on large companies anymore . What can those small businesses and suppliers be doing? What can they do?'}\n",
      "\n",
      "\n",
      "  You know, it’s kind of a two-way street.  People are finding they were far too over dependent on a particular sector, or particular manufacturer.  That says diversification is one route you can take in terms of I want to diversify my customers, I want to diversify the sectors that I serve.  We’ve seen a lot of pivots where firms have really moved into, moved into new areas, moved into new ways of serving customers as well.  So, it goes back to, I have to unfreeze my organizational ways of working and think about new things that I can do with those capabilities, new opportunities I can address.\n",
      "{'summary_text': ' People are finding they were far too over dependent on a particular sector, or particular manufacturer . That says diversification is one route you can take in terms of diversification . We’ve seen a lot of pivots where firms have really moved into, moved into new areas, moved . into new ways of serving customers as well .'}\n",
      "\n",
      "\n",
      "  This obviously is a topic that’s highly relevant for people in manufacturing, consumer goods.  But what if I’m a leader of a software or a services company?  Should I care about all this and if so, what should I be doing to improve the situation?\n",
      "{'summary_text': ' This is a topic that’s highly relevant for people in manufacturing, consumer goods . But what if I’m a leader of a software or a services company?  Should I care about all this and if so, what should I be doing to improve the situation?'}\n",
      "\n",
      "\n",
      "  Well, even software and services businesses have adopted global footprints as well.  And we’re not just talking about Asia or South Asia, but we’re seeing software companies having part of their footprint in Eastern Europe for example, or Ireland, or lots of different places.  I think the key steps are really first understand what are your risks?\n",
      "{'summary_text': ' Even software and services businesses have adopted global footprints as well . Software companies are seeing software companies having part of their footprint in Eastern Europe for example, or Ireland .'}\n",
      "\n",
      "\n",
      "  You mentioned how long many of these changes will take to implement.  But what about the things that we need to overcome this pandemic?  Medicine, tests, vaccines.  Can the companies producing those things move more quickly to make sure they go into production and get into the hands of consumers more quickly?\n",
      "{'summary_text': ' Can the companies producing those things move more quickly to make sure they go into production and get into the hands of consumers more quickly? What about the things that we need to overcome this pandemic?  Medicine, tests, vaccines?'}\n",
      "\n",
      "\n",
      "  One of the things that I think has been very gratifying that I have seen in the pandemic is how the crisis has unfrozen how a lot of companies act.  So, a great example has been in medical ventilators.  I’m on a board of a company that manufacturers a lot of medical equipment for other companies and they came to us and many companies came to them saying, how fast can you put ventilators into production for us?\n",
      "{'summary_text': ' One of the things that I think has been very gratifying that I have seen in the pandemic is how the crisis has unfrozen how a lot of companies act . A great example has been in medical ventilators. Many companies came to them saying, how fast can you put ventilator into production .'}\n",
      "\n",
      "\n",
      "  Well, hopefully organizations and consumers will be able to figure this out.  Thanks so much for joining me.\n",
      "{'summary_text': ' CNN Tech Hero: \"Hopefully organizations and consumers will be able to figure this out.    Well, hopefully organizations, consumers will have to figure out this out.\"'}\n",
      "\n",
      "\n",
      "  Thank you.\n",
      "  Thank you.\n",
      "\n",
      "\n",
      "  That’s Willy Shih, Professor at Harvard Business School and author of the article, “Global Supply Chains in a Post Pandemic World.”  You can find it in the September/October, 2020 issue of Harvard Business Reviewer or at hbr.org.\n",
      "{'summary_text': ' Professor Willy Shih is the author of the article, “Global Supply Chains in a Post Pandemic World”  You can find it in the September/October, 2020 issue of Harvard Business Reviewer or at hbr.org .'}\n",
      "\n",
      "\n"
     ]
    }
   ],
   "source": [
    "for val in df.index:\n",
    "    print(df.loc[val, 'Dialogue'])\n",
    "    print(df.loc[val, 'summary'])\n",
    "    print('\\n')"
   ]
  },
  {
   "cell_type": "code",
   "execution_count": 43,
   "metadata": {},
   "outputs": [
    {
     "name": "stderr",
     "output_type": "stream",
     "text": [
      "/Users/abhil/anaconda3/envs/tf/lib/python3.6/site-packages/transformers/modeling_auto.py:821: FutureWarning: The class `AutoModelWithLMHead` is deprecated and will be removed in a future version. Please use `AutoModelForCausalLM` for causal language models, `AutoModelForMaskedLM` for masked language models and `AutoModelForSeq2SeqLM` for encoder-decoder models.\n",
      "  FutureWarning,\n"
     ]
    }
   ],
   "source": [
    "from transformers import AutoModelWithLMHead, AutoTokenizer\n",
    "\n",
    "model = AutoModelWithLMHead.from_pretrained(\"t5-base\")\n",
    "tokenizer = AutoTokenizer.from_pretrained(\"t5-base\")\n",
    "\n",
    "# T5 uses a max_length of 512 so we cut the article to 512 tokens.\n"
   ]
  },
  {
   "cell_type": "code",
   "execution_count": 46,
   "metadata": {},
   "outputs": [],
   "source": [
    "inputs = tokenizer.encode(\"summarize: \" + guest_text, return_tensors=\"pt\", truncation = True)\n",
    "outputs = model.generate(inputs, max_length=150, min_length=40, length_penalty=2.0, num_beams=4, early_stopping=True)\n"
   ]
  },
  {
   "cell_type": "code",
   "execution_count": 47,
   "metadata": {},
   "outputs": [
    {
     "name": "stdout",
     "output_type": "stream",
     "text": [
      "tensor([[    0,  5654,    43,     3, 15443,    12,  4061,     3,     9,  1148,\n",
      "          3134, 20187,   120,   116,   479,    21,  2836,    13,  1899,     3,\n",
      "             5,    16,  8558,     8,  5727,  2662,  2837, 16145,    11, 28583,\n",
      "           808,   326,     3,     9,   381,    13,  6603,    16,  2662,  2837,\n",
      "             3,   104,   300,  1823,  1258,     6,  3411,     3,   104, 13461,\n",
      "             3,     5,  3674,     6,   902,    16,    48,   442,  2131,   221,\n",
      "          3113, 19917,     6,    33,    29,    22,    17,   352,    12,   241,\n",
      "            12,  6539,   726,    72,     3,     5]])\n"
     ]
    }
   ],
   "source": [
    "print(outputs)"
   ]
  },
  {
   "cell_type": "code",
   "execution_count": 49,
   "metadata": {},
   "outputs": [],
   "source": []
  },
  {
   "cell_type": "code",
   "execution_count": null,
   "metadata": {},
   "outputs": [],
   "source": []
  }
 ],
 "metadata": {
  "kernelspec": {
   "display_name": "tf",
   "language": "python",
   "name": "tf"
  },
  "language_info": {
   "codemirror_mode": {
    "name": "ipython",
    "version": 3
   },
   "file_extension": ".py",
   "mimetype": "text/x-python",
   "name": "python",
   "nbconvert_exporter": "python",
   "pygments_lexer": "ipython3",
   "version": "3.6.12"
  }
 },
 "nbformat": 4,
 "nbformat_minor": 4
}
